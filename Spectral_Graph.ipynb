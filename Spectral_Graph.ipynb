{
  "nbformat": 4,
  "nbformat_minor": 0,
  "metadata": {
    "colab": {
      "name": "Spectral_Graph.ipynb",
      "provenance": []
    },
    "kernelspec": {
      "display_name": "Python 3",
      "language": "python",
      "name": "python3"
    },
    "language_info": {
      "codemirror_mode": {
        "name": "ipython",
        "version": 3
      },
      "file_extension": ".py",
      "mimetype": "text/x-python",
      "name": "python",
      "nbconvert_exporter": "python",
      "pygments_lexer": "ipython3",
      "version": "3.7.7"
    }
  },
  "cells": [
    {
      "cell_type": "markdown",
      "metadata": {
        "id": "r-PESV7StzvU"
      },
      "source": [
        "# Spectral Graph Convolutional "
      ]
    },
    {
      "cell_type": "markdown",
      "metadata": {
        "id": "oVK_ox1iBk8K"
      },
      "source": [
        "<a href=\"https://colab.research.google.com/github/joerg84/Graph_Powered_ML_Workshop/blob/master/Spectral_Graph.ipynb\" target=\"_parent\"><img src=\"https://colab.research.google.com/assets/colab-badge.svg\" alt=\"Open In Colab\"/></a>"
      ]
    },
    {
      "cell_type": "markdown",
      "metadata": {
        "id": "E6Dd86LgtzvV"
      },
      "source": [
        "In this nodebook we will explore Spectral Graph Convolution, inspired by https://towardsdatascience.com/spectral-graph-convolution-explained-and-implemented-step-by-step-2e495b57f801."
      ]
    },
    {
      "cell_type": "code",
      "metadata": {
        "id": "Wdw7zuEwPAXk"
      },
      "source": [
        "%%capture\n",
        "!pip3 install numpy\n",
        "!pip3 install torch\n",
        "!pip3 install networkx\n",
        "!pip3 install matplotlib\n",
        "!pip3 install scipy"
      ],
      "execution_count": 56,
      "outputs": []
    },
    {
      "cell_type": "code",
      "metadata": {
        "id": "l1Gb5d7TPGgE"
      },
      "source": [
        "import networkx as nx\n",
        "import matplotlib.pyplot as plt\n",
        "import numpy as np\n",
        "from scipy.sparse.csgraph import laplacian"
      ],
      "execution_count": 57,
      "outputs": []
    },
    {
      "cell_type": "code",
      "metadata": {
        "colab": {
          "base_uri": "https://localhost:8080/",
          "height": 319
        },
        "id": "v76OFEgBNhYR",
        "outputId": "0b3ad7e5-388a-4cc4-e1d0-082cf59bf4bf"
      },
      "source": [
        "#(undirected) Graph expressed by the adjacency matrix\n",
        "A = np.matrix([\n",
        "    [0, 1, 1, 1],\n",
        "    [1, 0, 1, 0], \n",
        "    [1, 1, 0, 1],\n",
        "    [1, 0, 1, 0]],\n",
        "    dtype=float\n",
        ")\n",
        "\n",
        "# Draw the graph \n",
        "G = nx.from_numpy_array(A, create_using=nx.DiGraph())\n",
        "nx.draw(G, with_labels=True)"
      ],
      "execution_count": 58,
      "outputs": [
        {
          "output_type": "display_data",
          "data": {
            "image/png": "[encoded data removed]",
            "text/plain": [
              "<Figure size 432x288 with 1 Axes>"
            ]
          },
          "metadata": {
            "tags": []
          }
        }
      ]
    },
    {
      "cell_type": "markdown",
      "metadata": {
        "id": "heiYs7RYQbW8"
      },
      "source": [
        "Just as a useful trick, that conversions obviously also works the other way around (e.g., when starting from an existing networkx graph)."
      ]
    },
    {
      "cell_type": "code",
      "metadata": {
        "colab": {
          "base_uri": "https://localhost:8080/"
        },
        "id": "O-SN_rgPQvQp",
        "outputId": "85dd2f40-66a5-467f-d2d1-9663e7c965c5"
      },
      "source": [
        "A1 = nx.to_numpy_array(G)\n",
        "print(A1)"
      ],
      "execution_count": 66,
      "outputs": [
        {
          "output_type": "stream",
          "text": [
            "[[0. 1. 1. 1.]\n",
            " [1. 0. 1. 0.]\n",
            " [1. 1. 0. 1.]\n",
            " [1. 0. 1. 0.]]\n"
          ],
          "name": "stdout"
        }
      ]
    },
    {
      "cell_type": "markdown",
      "metadata": {
        "id": "NIWVdUWTRk2I"
      },
      "source": [
        "While “spectral” may sound complicated, for our purpose it’s enough to understand that it simply means decomposing a signal/audio/image/graph into a combination (usually, a sum) of simple elements (wavelets, graphlets). To have some nice properties of such a decomposition, these simple elements are usually orthogonal, i.e. mutually linearly independent, and therefore form a basis.\n",
        "When we talk about “spectral” in signal/image processing, we imply the Fourier Transform, which offers us a particular basis (DFT matrix, e.g. scipy.linalg.dft in Python) of elementary sine and cosine waves of different frequencies, so that we can represent our signal/image as a sum of these waves. But when we talk about graphs and graph neural networks (GNNs), “spectral” implies eigen-decomposition of the graph Laplacian L. You can think of the the graph Laplacian L as an adjacency matrix A normalized in a special way, whereas eigen-decomposition is a way to find those elementary orthogonal components that make up our graph.\n",
        "Intuitively, the graph Laplacian shows in what directions and how smoothly the “energy” will diffuse over a graph if we put some “potential” in node i. A typical use-case of Laplacian in mathematics and physics is to solve how a signal (wave) propagates in a dynamic system. Diffusion is smooth when there is no sudden changes of values between neighbors as in the animation below.\n"
      ]
    },
    {
      "cell_type": "code",
      "metadata": {
        "colab": {
          "base_uri": "https://localhost:8080/",
          "height": 361
        },
        "id": "bRENXuzGRjJ4",
        "outputId": "e8c16cbb-ff95-405b-afc9-be990729130f"
      },
      "source": [
        "N = A.shape[0] # number of nodes in a graph\n",
        "deg = np.sum(A, 0) # node degrees\n",
        "D = np.diagflat(deg)\n",
        "\n",
        "\n",
        "# Laplace Matrix\n",
        "L = D - A\n",
        "print(L)\n",
        "plt.matshow(L)"
      ],
      "execution_count": 70,
      "outputs": [
        {
          "output_type": "stream",
          "text": [
            "[[ 3. -1. -1. -1.]\n",
            " [-1.  2. -1.  0.]\n",
            " [-1. -1.  3. -1.]\n",
            " [-1.  0. -1.  2.]]\n"
          ],
          "name": "stdout"
        },
        {
          "output_type": "execute_result",
          "data": {
            "text/plain": [
              "<matplotlib.image.AxesImage at 0x7f0fd0dcab50>"
            ]
          },
          "metadata": {
            "tags": []
          },
          "execution_count": 70
        },
        {
          "output_type": "display_data",
          "data": {
            "image/png": "[encoded data removed]",
            "text/plain": [
              "<Figure size 288x288 with 1 Axes>"
            ]
          },
          "metadata": {
            "tags": [],
            "needs_background": "light"
          }
        }
      ]
    },
    {
      "cell_type": "code",
      "metadata": {
        "colab": {
          "base_uri": "https://localhost:8080/",
          "height": 361
        },
        "id": "IQm_fAzYRleP",
        "outputId": "faa28b14-bb16-4ba8-bbe9-9c81590d5be1"
      },
      "source": [
        "# Normalized Laplacian to avoid exploding values with multiplications", 
        "# https://en.wikipedia.org/wiki/Spectral_clustering",
        "D_sqrt = np.linalg.inv(np.sqrt(D))",
        "L_norm = np.identity(N) - np.dot(np.dot(D_sqrt , A), D_sqrt)", 
        "print(L_norm)",
        "plt.matshow(L_norm)"
      ],
      "execution_count": 68,
      "outputs": [
        {
          "output_type": "stream",
          "text": [
            "[[ 3.         -0.81649658 -1.         -0.81649658]\n",
            " [-1.22474487  2.         -1.22474487  0.        ]\n",
            " [-1.         -0.81649658  3.         -0.81649658]\n",
            " [-1.22474487  0.         -1.22474487  2.        ]]\n"
          ],
          "name": "stdout"
        },
        {
          "output_type": "execute_result",
          "data": {
            "text/plain": [
              "<matplotlib.image.AxesImage at 0x7f0fd0e8b750>"
            ]
          },
          "metadata": {
            "tags": []
          },
          "execution_count": 68
        },
        {
          "output_type": "display_data",
          "data": {
            "image/png": "[encoded data removed]",
            "text/plain": [
              "<Figure size 288x288 with 1 Axes>"
            ]
          },
          "metadata": {
            "tags": [],
            "needs_background": "light"
          }
        }
      ]
    },
    {
      "cell_type": "markdown",
      "metadata": {
        "id": "NN8ydQg4TvdO"
      },
      "source": [
        "In normal operations we would obviously use a predefined function :-)."
      ]
    },
    {
      "cell_type": "code",
      "metadata": {
        "colab": {
          "base_uri": "https://localhost:8080/",
          "height": 361
        },
        "id": "Wt4ceniVT2Fy",
        "outputId": "3206e33e-1534-455e-edb2-533c6962bb01"
      },
      "source": [
        "L_norm2 = laplacian(A, normed=True)\n",
        "print(L_norm2)\n",
        "plt.matshow(L_norm2)"
      ],
      "execution_count": 72,
      "outputs": [
        {
          "output_type": "stream",
          "text": [
            "[[ 1.         -0.40824829 -0.33333333 -0.40824829]\n",
            " [-0.40824829  1.         -0.40824829 -0.        ]\n",
            " [-0.33333333 -0.40824829  1.         -0.40824829]\n",
            " [-0.40824829 -0.         -0.40824829  1.        ]]\n"
          ],
          "name": "stdout"
        },
        {
          "output_type": "execute_result",
          "data": {
            "text/plain": [
              "<matplotlib.image.AxesImage at 0x7f0fd0d0c8d0>"
            ]
          },
          "metadata": {
            "tags": []
          },
          "execution_count": 72
        },
        {
          "output_type": "display_data",
          "data": {
            "image/png": "[encoded data removed]",
            "text/plain": [
              "<Figure size 288x288 with 1 Axes>"
            ]
          },
          "metadata": {
            "tags": [],
            "needs_background": "light"
          }
        }
      ]
    },
    {
      "cell_type": "code",
      "metadata": {
        "colab": {
          "base_uri": "https://localhost:8080/",
          "height": 413
        },
        "id": "zUYqlQqWV7wU",
        "outputId": "16bd6ec0-10ea-42e1-dafe-ae13165e474a"
      },
      "source": [
        "import numpy as np\n",
        "from scipy.spatial.distance import cdist\n",
        "img_size = 28  # MNIST image width and height\n",
        "col, row = np.meshgrid(np.arange(img_size), np.arange(img_size))\n",
        "coord = np.stack((col, row), axis=2).reshape(-1, 2) / img_size\n",
        "dist = cdist(coord, coord)  # see figure below on the left\n",
        "sigma = 0.2 * np.pi  # width of a Gaussian\n",
        "B = np.exp(- dist ** 2 / sigma ** 2)  # see figure below in the middle\n",
        "\n",
        "print(B)\n",
        "plt.matshow(B)"
      ],
      "execution_count": 54,
      "outputs": [
        {
          "output_type": "stream",
          "text": [
            "[[1.         0.99677431 0.98715953 ... 0.01259261 0.01067958 0.00899884]\n",
            " [0.99677431 1.         0.99677431 ... 0.01475267 0.01259261 0.01067958]\n",
            " [0.98715953 0.99677431 1.         ... 0.01717194 0.01475267 0.01259261]\n",
            " ...\n",
            " [0.01259261 0.01475267 0.01717194 ... 1.         0.99677431 0.98715953]\n",
            " [0.01067958 0.01259261 0.01475267 ... 0.99677431 1.         0.99677431]\n",
            " [0.00899884 0.01067958 0.01259261 ... 0.98715953 0.99677431 1.        ]]\n"
          ],
          "name": "stdout"
        },
        {
          "output_type": "execute_result",
          "data": {
            "text/plain": [
              "<matplotlib.image.AxesImage at 0x7f0fd10f85d0>"
            ]
          },
          "metadata": {
            "tags": []
          },
          "execution_count": 54
        },
        {
          "output_type": "display_data",
          "data": {
            "image/png": "[encoded data removed]",
            "text/plain": [
              "<Figure size 288x288 with 1 Axes>"
            ]
          },
          "metadata": {
            "tags": [],
            "needs_background": "light"
          }
        }
      ]
    }
  ]
}
